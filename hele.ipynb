{
 "cells": [
  {
   "cell_type": "markdown",
   "metadata": {},
   "source": [
    "# HELE coal calculations\n",
    "\n",
    "### Introduction\n",
    "\n",
    ">*Research commissioned by the Turnbull government has ­estimated Australia’s emissions would be cut by up to 27 per cent if the country’s coal-based power generation ran on \"ultra-super-critical technology\", used in countries around the world.*\n",
    "\n",
    "[Matt Canavan backs technology to cut our carbon emissions](\n",
    "http://www.theaustralian.com.au/business/mining-energy/matt-canavan-backs-technology-to-cut-our-carbon-emissions/news-story/54c389f4553adbaf42c9f043f7518f0a), Tuesday 17th January 2017, *The Australian*\n",
    "\n",
    "Josh Frydenberg was unable to quantify the cost of this technology when questioned on [Radio National (24th Jan 2017)](http://www.abc.net.au/radionational/programs/breakfast/no-plans-to-change-ret-frydenberg/8206540). This analysis attempts to firstly replicate the results prepared by the Department of Industry, Innovation and Science and reported in the media. In addition to this, the costs of achieving this reduction using \"ultra-super-critical technology\" is also quantified. This is compared with other options.\n",
    "\n",
    "### Summary\n",
    "* Emissions from the electricity sector could be reduced by **27%** if the exiting coal power stations were replaced with ultra supercritical coal stations.\n",
    "* Approximately **20 GW** of new ultra supercritical coal power stations would be required.\n",
    "* The 20 GW required would cost approximately **\\$62 billion**.\n",
    "* The same emissions reduction could be achieved with **13-19 GW** of renewable energy, costing **\\$24-34** billion\n",
    "* \\$62 billion invested in renewable capacity could reduce emission in the electricity sector by **50% to 60%**\n",
    "\n",
    "\n",
    "### Approach\n",
    "\n",
    "This analysis quantifies the hypothetical emissions reduction achievable by replacing the current fleet of subcritical and supercritical power stations with new ultra super-critical technology. Generation data from individual power stations in 2016, combined with the latest emissions factor assumptions [from AEMO](https://www.aemo.com.au/Electricity/National-Electricity-Market-NEM/Planning-and-forecasting/National-Transmission-Network-Development-Plan/NTNDP-database) was used to calculate energy output and the resulting emissions. The energy was assumed to be replaced with ultra super-critical technology, with an emissions intensity of 700g/kWh (0.7 tonne/MWh). From this, the hypothetical reduction of emissions can be quantified.\n",
    "\n",
    "The energy output from the existing coal fired powerstation can also be used to estimate the quantify for the capacity of new ultra super-critical technology. To determine this, a capacity factor of 0.85 was used. This capacity can be combined with capital cost estimates from the [Australian Power Generation Technology Report](http://www.co2crc.com.au/wp-content/uploads/2016/04/LCOE_Report_final_web.pdf) to estimate total costs.\n",
    "\n",
    "The costs and emissions outcome were compared with renewable energy using a similar approach. In the first case, the emissions reductions were assumed to be achieved, albeit using renewable energy. In the second case, the same amount of money was assumed to be spent on renewable energy capacity, and the emissions reductions calculated. This was based on the high end of the cost recently [reported in the AFR](http://www.afr.com/business/energy/solar-energy/solar-closing-cost-gap-with-wind-conventional-power-20170113-gtqw91) at between \\$1,570-\\$1,780 / kW.\n",
    "\n",
    "### Data and code\n",
    "\n",
    "The data (emissions intensity, station energy output) and code to arrive at these results are available on [github](https://github.com/dylanjmcconnell/hele_coal) (and below), should anyone wish to examine or replicate the analyis. The raw genaration data is in units of GWh (as generated) and the raw emissions data is in units of tonnes CO₂-eq (as generated)."
   ]
  },
  {
   "cell_type": "code",
   "execution_count": 1,
   "metadata": {
    "collapsed": false
   },
   "outputs": [],
   "source": [
    "import pandas as pd\n",
    "\n",
    "#data\n",
    "df_stations = pd.read_csv('station_emissions.csv')\n",
    "\n",
    "#Assumptions:\n",
    "ei = 0.7 #HELE coal plant has emission intensity of 700 g/kWh (0.7 tonnes/MWh)\n",
    "cf_coal = 0.85 #capacity factor new coal\n",
    "cost_coal = 3100 #Cost of new installed capacity (from APGTR, $3,100, USC black coal)\n",
    "cost_re = 1780 # Cost of new installed capacity (from AFR)\n",
    "cf_re = 0.3 #capacity factor new renewable"
   ]
  },
  {
   "cell_type": "code",
   "execution_count": 2,
   "metadata": {
    "collapsed": false
   },
   "outputs": [
    {
     "data": {
      "text/html": [
       "<div style=\"max-height:1000px;max-width:1500px;overflow:auto;\">\n",
       "<table border=\"1\" class=\"dataframe\">\n",
       "  <thead>\n",
       "    <tr style=\"text-align: right;\">\n",
       "      <th></th>\n",
       "      <th>GWH</th>\n",
       "      <th>EMISSIONS</th>\n",
       "    </tr>\n",
       "    <tr>\n",
       "      <th>CATEGORY</th>\n",
       "      <th></th>\n",
       "      <th></th>\n",
       "    </tr>\n",
       "  </thead>\n",
       "  <tbody>\n",
       "    <tr>\n",
       "      <th>Biomass</th>\n",
       "      <td>577.650409</td>\n",
       "      <td>NaN</td>\n",
       "    </tr>\n",
       "    <tr>\n",
       "      <th>Black Coal</th>\n",
       "      <td>104078.102940</td>\n",
       "      <td>90.996559</td>\n",
       "    </tr>\n",
       "    <tr>\n",
       "      <th>Brown Coal</th>\n",
       "      <td>47021.910707</td>\n",
       "      <td>58.104190</td>\n",
       "    </tr>\n",
       "    <tr>\n",
       "      <th>Distillate</th>\n",
       "      <td>133.722916</td>\n",
       "      <td>0.064450</td>\n",
       "    </tr>\n",
       "    <tr>\n",
       "      <th>Gas</th>\n",
       "      <td>23949.254238</td>\n",
       "      <td>11.314360</td>\n",
       "    </tr>\n",
       "    <tr>\n",
       "      <th>Hydro</th>\n",
       "      <td>25484.696914</td>\n",
       "      <td>NaN</td>\n",
       "    </tr>\n",
       "    <tr>\n",
       "      <th>Solar</th>\n",
       "      <td>481.955180</td>\n",
       "      <td>NaN</td>\n",
       "    </tr>\n",
       "    <tr>\n",
       "      <th>Wind</th>\n",
       "      <td>12382.680455</td>\n",
       "      <td>NaN</td>\n",
       "    </tr>\n",
       "  </tbody>\n",
       "</table>\n",
       "</div>"
      ],
      "text/plain": [
       "                      GWH  EMISSIONS\n",
       "CATEGORY                            \n",
       "Biomass        577.650409        NaN\n",
       "Black Coal  104078.102940  90.996559\n",
       "Brown Coal   47021.910707  58.104190\n",
       "Distillate     133.722916   0.064450\n",
       "Gas          23949.254238  11.314360\n",
       "Hydro        25484.696914        NaN\n",
       "Solar          481.955180        NaN\n",
       "Wind         12382.680455        NaN"
      ]
     },
     "execution_count": 2,
     "metadata": {},
     "output_type": "execute_result"
    }
   ],
   "source": [
    "df_fuel = df_stations.groupby('CATEGORY').sum()[['GWH','EMISSIONS']]\n",
    "df_fuel.EMISSIONS = df_fuel.EMISSIONS/1000000 #convert to MT\n",
    "df_fuel"
   ]
  },
  {
   "cell_type": "code",
   "execution_count": 3,
   "metadata": {
    "collapsed": false
   },
   "outputs": [
    {
     "data": {
      "text/html": [
       "<div style=\"max-height:1000px;max-width:1500px;overflow:auto;\">\n",
       "<table border=\"1\" class=\"dataframe\">\n",
       "  <thead>\n",
       "    <tr style=\"text-align: right;\">\n",
       "      <th></th>\n",
       "      <th>GWH</th>\n",
       "      <th>EMISSIONS</th>\n",
       "    </tr>\n",
       "    <tr>\n",
       "      <th>CATEGORY</th>\n",
       "      <th></th>\n",
       "      <th></th>\n",
       "    </tr>\n",
       "  </thead>\n",
       "  <tbody>\n",
       "    <tr>\n",
       "      <th>Brown Coal</th>\n",
       "      <td>47021.910707</td>\n",
       "      <td>58.104190</td>\n",
       "    </tr>\n",
       "    <tr>\n",
       "      <th>Black Coal</th>\n",
       "      <td>104078.102940</td>\n",
       "      <td>90.996559</td>\n",
       "    </tr>\n",
       "  </tbody>\n",
       "</table>\n",
       "</div>"
      ],
      "text/plain": [
       "                      GWH  EMISSIONS\n",
       "CATEGORY                            \n",
       "Brown Coal   47021.910707  58.104190\n",
       "Black Coal  104078.102940  90.996559"
      ]
     },
     "execution_count": 3,
     "metadata": {},
     "output_type": "execute_result"
    }
   ],
   "source": [
    "df_coal = df_fuel.ix[['Brown Coal','Black Coal']]\n",
    "df_coal"
   ]
  },
  {
   "cell_type": "code",
   "execution_count": 4,
   "metadata": {
    "collapsed": false,
    "scrolled": true
   },
   "outputs": [
    {
     "name": "stdout",
     "output_type": "stream",
     "text": [
      "GWH          151100.013647\n",
      "EMISSIONS       149.100749\n",
      "dtype: float64\n"
     ]
    }
   ],
   "source": [
    "print df_coal.sum()"
   ]
  },
  {
   "cell_type": "code",
   "execution_count": 5,
   "metadata": {
    "collapsed": false
   },
   "outputs": [
    {
     "name": "stdout",
     "output_type": "stream",
     "text": [
      "Absolute decrease emissions: 43.33 MT\n",
      "Percentage (electricity sector) decrease: 27.00% \n",
      "Percentage (coal sector only) decrease: 29.06% \n"
     ]
    }
   ],
   "source": [
    "#Emissions caculation\n",
    "total_emissions_2016 = df_fuel.sum().EMISSIONS\n",
    "coal_emissions_2016 = df_coal.sum().EMISSIONS\n",
    "coal_output_2016 = df_coal.sum().GWH\n",
    "\n",
    "#Assume new HELE coal plant has emission intensity of 700 g/kWh (0.7 tonnes/MWh)\n",
    "hele_emissions = ei * coal_output_2016 /1000\n",
    "emissions_decrease = coal_emissions_2016 - hele_emissions\n",
    "\n",
    "\n",
    "print \"Absolute decrease emissions: {0:.2f} MT\".format(emissions_decrease)\n",
    "print \"Percentage (electricity sector) decrease: {0:.2f}% \".format(emissions_decrease/total_emissions_2016*100)\n",
    "print \"Percentage (coal sector only) decrease: {0:.2f}% \".format(emissions_decrease/coal_emissions_2016*100)"
   ]
  },
  {
   "cell_type": "code",
   "execution_count": 6,
   "metadata": {
    "collapsed": false
   },
   "outputs": [
    {
     "name": "stdout",
     "output_type": "stream",
     "text": [
      "HELE Capacity require: 20.29 GW\n",
      "Total cost: $62.91 billion\n"
     ]
    }
   ],
   "source": [
    "#Capacity and Cost calculation\n",
    "\n",
    "#Capacity factor of new coal plant\n",
    "new_capacity = coal_output_2016 / (cf_coal * 8760)\n",
    "print \"HELE Capacity require: {0:.2f} GW\".format(new_capacity)\n",
    "\n",
    "#Cost of new installed capacity (from Australian Power Generation Technology Report, $3,100, USC black coal)\n",
    "total_capex = new_capacity * cost_coal\n",
    "print \"Total cost: ${0:.2f} billion\".format(total_capex/1000)"
   ]
  },
  {
   "cell_type": "code",
   "execution_count": 7,
   "metadata": {
    "collapsed": false
   },
   "outputs": [
    {
     "name": "stdout",
     "output_type": "stream",
     "text": [
      "CATEGORY\n",
      "Brown Coal    1.235683\n",
      "Black Coal    0.874310\n",
      "dtype: float64\n"
     ]
    }
   ],
   "source": [
    "#Comparison with RE\n",
    "coal_emissions_intensity = df_coal.EMISSIONS/df_coal.GWH * 1000\n",
    "print coal_emissions_intensity"
   ]
  },
  {
   "cell_type": "code",
   "execution_count": 8,
   "metadata": {
    "collapsed": false
   },
   "outputs": [
    {
     "name": "stdout",
     "output_type": "stream",
     "text": [
      "18.8584128687\n",
      "RE capacity: 18.86 GW\n",
      "Total cost: $33.57 billion\n"
     ]
    }
   ],
   "source": [
    "#Replacing 100% black coal, RE capacity factor = 30%\n",
    "re_cf = 0.30\n",
    "re_energy = emissions_decrease/(coal_emissions_intensity['Black Coal'])\n",
    "re_capacity = re_energy/(re_cf*8.760)\n",
    "print re_capacity\n",
    "print \"RE capacity: {0:.2f} GW\".format(re_capacity)\n",
    "\n",
    "#Cost\n",
    "total_capex_re = re_capacity * cost_re\n",
    "print \"Total cost: ${0:.2f} billion\".format(total_capex_re/1000)"
   ]
  },
  {
   "cell_type": "code",
   "execution_count": 9,
   "metadata": {
    "collapsed": false
   },
   "outputs": [
    {
     "name": "stdout",
     "output_type": "stream",
     "text": [
      "RE capacity: 13.34 GW\n",
      "Total cost: $23.75 billion\n"
     ]
    }
   ],
   "source": [
    "#Replacing 100% brown coal, RE capacity factor = 30%\n",
    "re_energy = emissions_decrease/(coal_emissions_intensity['Brown Coal'])\n",
    "\n",
    "re_capacity = re_energy/(re_cf*8.760)\n",
    "print \"RE capacity: {0:.2f} GW\".format(re_capacity)\n",
    "\n",
    "#Cost\n",
    "total_capex_re = re_capacity * cost_re\n",
    "print \"Total cost: ${0:.2f} billion\".format(total_capex_re/1000)"
   ]
  },
  {
   "cell_type": "code",
   "execution_count": 14,
   "metadata": {
    "collapsed": false
   },
   "outputs": [
    {
     "name": "stdout",
     "output_type": "stream",
     "text": [
      "New RE capacity: 34.83 GW\n",
      "Absolute decrease emissions: 80.03 MT\n",
      "Percentage (electricity sector) decrease: 49.87% \n",
      "0.536763313991\n"
     ]
    }
   ],
   "source": [
    "#Spending $62 billion on Renewable Capacity\n",
    "new_re_capacity = 62./cost_re * 1000\n",
    "print \"New RE capacity: {0:.2f} GW\".format(new_re_capacity)\n",
    "\n",
    "#Emissions reduction, replacing black coal, RE capacity factor = 30%\n",
    "re_energy = new_re_capacity * 8.760 * re_cf\n",
    "black_emissions_reductions = re_energy * coal_emissions_intensity['Black Coal']\n",
    "\n",
    "print \"Absolute decrease emissions: {0:.2f} MT\".format(black_emissions_reductions)\n",
    "print \"Percentage (electricity sector) decrease: {0:.2f}% \".format(black_emissions_reductions/total_emissions_2016*100)\n",
    "\n",
    "print black_emissions_reductions / coal_emissions_2016"
   ]
  },
  {
   "cell_type": "code",
   "execution_count": 11,
   "metadata": {
    "collapsed": false
   },
   "outputs": [
    {
     "name": "stdout",
     "output_type": "stream",
     "text": [
      "Absolute decrease emissions: 97.02 MT\n",
      "Percentage (electricity sector) decrease: 60.46% \n"
     ]
    }
   ],
   "source": [
    "#Emissions reduction, replacing brown coal first, then black coal, RE capacity factor = 30%\n",
    "brown_emissions_reductions = df_coal['EMISSIONS'].ix['Brown Coal']\n",
    "\n",
    "#(Black coal reduction is assumed to be )\n",
    "black_energy_displaced = re_energy - df_coal['GWH'].ix['Brown Coal']/1000\n",
    "black_emissions_reductions = black_energy_displaced * coal_emissions_intensity['Black Coal']\n",
    "\n",
    "total_emissions_reductions = black_emissions_reductions + brown_emissions_reductions\n",
    "\n",
    "print \"Absolute decrease emissions: {0:.2f} MT\".format(total_emissions_reductions)\n",
    "print \"Percentage (electricity sector) decrease: {0:.2f}% \".format(total_emissions_reductions/total_emissions_2016*100)\n",
    "\n"
   ]
  }
 ],
 "metadata": {
  "kernelspec": {
   "display_name": "Python 2",
   "language": "python",
   "name": "python2"
  },
  "language_info": {
   "codemirror_mode": {
    "name": "ipython",
    "version": 2
   },
   "file_extension": ".py",
   "mimetype": "text/x-python",
   "name": "python",
   "nbconvert_exporter": "python",
   "pygments_lexer": "ipython2",
   "version": "2.7.12"
  }
 },
 "nbformat": 4,
 "nbformat_minor": 2
}
