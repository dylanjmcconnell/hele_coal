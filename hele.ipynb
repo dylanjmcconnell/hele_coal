{
 "cells": [
  {
   "cell_type": "code",
   "execution_count": 1,
   "metadata": {
    "collapsed": false
   },
   "outputs": [],
   "source": [
    "import pandas as pd\n",
    "\n",
    "#data\n",
    "df_stations = pd.read_csv('station_emissions.csv')\n",
    "\n",
    "#Assumptions:\n",
    "ei = 0.7 #HELE coal plant has emission intensity of 700 g/kWh (0.7 tonnes/MWh)\n",
    "cf = 0.85 #capacity factor new coal\n",
    "cost = 3100 #Cost of new installed capacity (from APGTR, $3,100, USC black coal)"
   ]
  },
  {
   "cell_type": "code",
   "execution_count": 2,
   "metadata": {
    "collapsed": false
   },
   "outputs": [
    {
     "data": {
      "text/html": [
       "<div style=\"max-height:1000px;max-width:1500px;overflow:auto;\">\n",
       "<table border=\"1\" class=\"dataframe\">\n",
       "  <thead>\n",
       "    <tr style=\"text-align: right;\">\n",
       "      <th></th>\n",
       "      <th>GWH</th>\n",
       "      <th>EMISSIONS</th>\n",
       "    </tr>\n",
       "    <tr>\n",
       "      <th>CATEGORY</th>\n",
       "      <th></th>\n",
       "      <th></th>\n",
       "    </tr>\n",
       "  </thead>\n",
       "  <tbody>\n",
       "    <tr>\n",
       "      <th>Biomass</th>\n",
       "      <td>577.650409</td>\n",
       "      <td>NaN</td>\n",
       "    </tr>\n",
       "    <tr>\n",
       "      <th>Black Coal</th>\n",
       "      <td>104078.102940</td>\n",
       "      <td>90996.559285</td>\n",
       "    </tr>\n",
       "    <tr>\n",
       "      <th>Brown Coal</th>\n",
       "      <td>47021.910707</td>\n",
       "      <td>58104.190085</td>\n",
       "    </tr>\n",
       "    <tr>\n",
       "      <th>Distillate</th>\n",
       "      <td>133.722916</td>\n",
       "      <td>64.450031</td>\n",
       "    </tr>\n",
       "    <tr>\n",
       "      <th>Gas</th>\n",
       "      <td>23949.254238</td>\n",
       "      <td>11314.359856</td>\n",
       "    </tr>\n",
       "    <tr>\n",
       "      <th>Hydro</th>\n",
       "      <td>25484.696914</td>\n",
       "      <td>NaN</td>\n",
       "    </tr>\n",
       "    <tr>\n",
       "      <th>Solar</th>\n",
       "      <td>481.955180</td>\n",
       "      <td>NaN</td>\n",
       "    </tr>\n",
       "    <tr>\n",
       "      <th>Wind</th>\n",
       "      <td>12382.680455</td>\n",
       "      <td>NaN</td>\n",
       "    </tr>\n",
       "  </tbody>\n",
       "</table>\n",
       "</div>"
      ],
      "text/plain": [
       "                      GWH     EMISSIONS\n",
       "CATEGORY                               \n",
       "Biomass        577.650409           NaN\n",
       "Black Coal  104078.102940  90996.559285\n",
       "Brown Coal   47021.910707  58104.190085\n",
       "Distillate     133.722916     64.450031\n",
       "Gas          23949.254238  11314.359856\n",
       "Hydro        25484.696914           NaN\n",
       "Solar          481.955180           NaN\n",
       "Wind         12382.680455           NaN"
      ]
     },
     "execution_count": 2,
     "metadata": {},
     "output_type": "execute_result"
    }
   ],
   "source": [
    "df_fuel = df_stations.groupby('CATEGORY').sum()[['GWH','EMISSIONS']]\n",
    "df_fuel"
   ]
  },
  {
   "cell_type": "code",
   "execution_count": 3,
   "metadata": {
    "collapsed": false
   },
   "outputs": [
    {
     "data": {
      "text/html": [
       "<div style=\"max-height:1000px;max-width:1500px;overflow:auto;\">\n",
       "<table border=\"1\" class=\"dataframe\">\n",
       "  <thead>\n",
       "    <tr style=\"text-align: right;\">\n",
       "      <th></th>\n",
       "      <th>GWH</th>\n",
       "      <th>EMISSIONS</th>\n",
       "    </tr>\n",
       "    <tr>\n",
       "      <th>CATEGORY</th>\n",
       "      <th></th>\n",
       "      <th></th>\n",
       "    </tr>\n",
       "  </thead>\n",
       "  <tbody>\n",
       "    <tr>\n",
       "      <th>Brown Coal</th>\n",
       "      <td>47021.910707</td>\n",
       "      <td>58104.190085</td>\n",
       "    </tr>\n",
       "    <tr>\n",
       "      <th>Black Coal</th>\n",
       "      <td>104078.102940</td>\n",
       "      <td>90996.559285</td>\n",
       "    </tr>\n",
       "  </tbody>\n",
       "</table>\n",
       "</div>"
      ],
      "text/plain": [
       "                      GWH     EMISSIONS\n",
       "CATEGORY                               \n",
       "Brown Coal   47021.910707  58104.190085\n",
       "Black Coal  104078.102940  90996.559285"
      ]
     },
     "execution_count": 3,
     "metadata": {},
     "output_type": "execute_result"
    }
   ],
   "source": [
    "df_coal = df_fuel.ix[['Brown Coal','Black Coal']]\n",
    "df_coal"
   ]
  },
  {
   "cell_type": "code",
   "execution_count": 4,
   "metadata": {
    "collapsed": false,
    "scrolled": true
   },
   "outputs": [
    {
     "name": "stdout",
     "output_type": "stream",
     "text": [
      "GWH          151100.013647\n",
      "EMISSIONS    149100.749371\n",
      "dtype: float64\n"
     ]
    }
   ],
   "source": [
    "print df_coal.sum()"
   ]
  },
  {
   "cell_type": "code",
   "execution_count": 7,
   "metadata": {
    "collapsed": false
   },
   "outputs": [
    {
     "name": "stdout",
     "output_type": "stream",
     "text": [
      "Absolute decrease: 43.33 MT\n",
      "Precentage decrease: 27.00% \n"
     ]
    }
   ],
   "source": [
    "#Emissions caculation\n",
    "total_emissions_2016 = df_fuel.sum().EMISSIONS\n",
    "coal_emissions_2016 = df_coal.sum().EMISSIONS\n",
    "coal_output_2016 = df_coal.sum().GWH\n",
    "\n",
    "#Assume new HELE coal plant has emission intensity of 700 g/kWh (0.7 tonnes/MWh)\n",
    "hele_emissions = ei * coal_output_2016\n",
    "emissions_decrease = coal_emissions_2016 - hele_emissions\n",
    "\n",
    "\n",
    "print \"Absolute decrease: {0:.2f} MT\".format(emissions_decrease/1000)\n",
    "print \"Percentage decrease: {0:.2f}% \".format(emissions_decrease/total_emissions_2016*100)"
   ]
  },
  {
   "cell_type": "code",
   "execution_count": 6,
   "metadata": {
    "collapsed": false
   },
   "outputs": [
    {
     "name": "stdout",
     "output_type": "stream",
     "text": [
      "HELE Capacity require: 20.29 GW\n",
      "Total cost: $62.91 billion\n"
     ]
    }
   ],
   "source": [
    "#Capacity and Cost calculation\n",
    "\n",
    "#Capacity factor of new coal plant\n",
    "new_capacity = coal_output_2016 / (cf * 8760)\n",
    "print \"HELE Capacity require: {0:.2f} GW\".format(new_capacity)\n",
    "\n",
    "#Cost of new installed capacity (from Australian Power Generation Technology Report, $3,100, USC black coal)\n",
    "total_capex = new_capacity * cost\n",
    "print \"Total cost: ${0:.2f} billion\".format(total_capex/1000)"
   ]
  },
  {
   "cell_type": "code",
   "execution_count": null,
   "metadata": {
    "collapsed": true
   },
   "outputs": [],
   "source": []
  }
 ],
 "metadata": {
  "kernelspec": {
   "display_name": "Python 2",
   "language": "python",
   "name": "python2"
  },
  "language_info": {
   "codemirror_mode": {
    "name": "ipython",
    "version": 2
   },
   "file_extension": ".py",
   "mimetype": "text/x-python",
   "name": "python",
   "nbconvert_exporter": "python",
   "pygments_lexer": "ipython2",
   "version": "2.7.12"
  }
 },
 "nbformat": 4,
 "nbformat_minor": 2
}
